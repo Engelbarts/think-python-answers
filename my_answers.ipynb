{
 "cells": [
  {
   "cell_type": "markdown",
   "metadata": {},
   "source": [
    "## Exercise 1.1  \n",
    "It is a good idea to read this book in front of a computer so you can try out the examples as you go.\n",
    "\n",
    "Whenever you are experimenting with a new feature, you should try to make mistakes. For example, in the “Hello, world!” program, what happens if you leave out one of the quotation marks? What if you leave out both? What if you spell print wrong?\n",
    "\n",
    "This kind of experiment helps you remember what you read; it also helps when you are programming, because you get to know what the error messages mean. It is better to make mistakes now and on purpose than later and accidentally.\n",
    "\n",
    "In a print statement, what happens if you leave out one of the parentheses, or both?\n",
    "If you are trying to print a string, what happens if you leave out one of the quotation marks, or both?\n",
    "You can use a minus sign to make a negative number like -2. What happens if you put a plus sign before a number? What about 2++2?\n",
    "In math notation, leading zeros are ok, as in 02. What happens if you try this in Python?\n",
    "What happens if you have two values with no operator between them?\n",
    "Exercise 2\n",
    "Start the Python interpreter and use it as a calculator.\n",
    "\n",
    "How many seconds are there in 42 minutes 42 seconds?\n",
    "How many miles are there in 10 kilometers? Hint: there are 1.61 kilometers in a mile.\n",
    "If you run a 10 kilometer race in 42 minutes 42 seconds, what is your average pace (time per mile in minutes and seconds)? What is your average speed in miles per hour?"
   ]
  },
  {
   "cell_type": "code",
   "execution_count": null,
   "metadata": {},
   "outputs": [],
   "source": [
    "# TODO"
   ]
  },
  {
   "cell_type": "markdown",
   "metadata": {},
   "source": [
    "## Exercise 2.1  \n",
    "Repeating my advice from the previous chapter, whenever you learn a new feature, you should try it out in interactive mode and make errors on purpose to see what goes wrong.\n",
    "\n",
    "* We’ve seen that n = 42 is legal. What about 42 = n?\n",
    "* How about x = y = 1?\n",
    "* In some languages every statement ends with a semi-colon, ;. What happens if you put a semi-colon at the end of a Python statement?\n",
    "* What if you put a period at the end of a statement?\n",
    "* In math notation you can multiply x and y like this: x y. What happens if you try that in Python?"
   ]
  },
  {
   "cell_type": "code",
   "execution_count": null,
   "metadata": {},
   "outputs": [],
   "source": [
    "# TODO"
   ]
  },
  {
   "cell_type": "markdown",
   "metadata": {},
   "source": [
    "## Exercise 2.2  \n",
    "Practice using the Python interpreter as a calculator:\n",
    "\n",
    "* The volume of a sphere with radius r is $4/3 π r3$. What is the volume of a sphere with radius 5?\n",
    "* Suppose the cover price of a book is \\\\$24.95, but bookstores get a 40% discount. Shipping costs \\\\$3 for the first copy and 75 cents for each additional copy. What is the total wholesale cost for 60 copies?\n",
    "* If I leave my house at 6:52 am and run 1 mile at an easy pace (8:15 per mile), then 3 miles at tempo (7:12 per mile) and 1 mile at easy pace again, what time do I get home for breakfast?"
   ]
  },
  {
   "cell_type": "code",
   "execution_count": null,
   "metadata": {},
   "outputs": [],
   "source": [
    "# TODO"
   ]
  },
  {
   "cell_type": "markdown",
   "metadata": {},
   "source": [
    "## Exercise 3.1  \n",
    "Write a function named right_justify that takes a string named s as a parameter and prints the string with enough leading spaces so that the last letter of the string is in column 70 of the display.\n",
    "\n",
    "<pre>\n",
    ">>> right_justify('monty')\n",
    "                                                                 monty\n",
    "</pre>\n",
    "Hint: Use string concatenation and repetition. Also, Python provides a built-in function called len that returns the length of a string, so the value of len('monty') is 5."
   ]
  },
  {
   "cell_type": "code",
   "execution_count": null,
   "metadata": {},
   "outputs": [],
   "source": [
    "def right_justify(word):\n",
    "    nr_spaces = 70 - len(word)\n",
    "    print(' ' * (nr_spaces - 1), word) # print adds a delimter ' '"
   ]
  },
  {
   "cell_type": "markdown",
   "metadata": {},
   "source": [
    "## Exercise 3.2  \n",
    "A function object is a value you can assign to a variable or pass as an argument. For example, do_twice is a function that takes a function object as an argument and calls it twice:\n",
    "\n",
    "<pre>\n",
    "def do_twice(f):\n",
    "    f()\n",
    "    f()\n",
    "</pre>\n",
    "\n",
    "Here’s an example that uses do_twice to call a function named print_spam twice.\n",
    "\n",
    "<pre>\n",
    "def print_spam():\n",
    "    print('spam')\n",
    "\n",
    "do_twice(print_spam)\n",
    "</pre>\n",
    "\n",
    "* Type this example into a script and test it."
   ]
  },
  {
   "cell_type": "code",
   "execution_count": null,
   "metadata": {},
   "outputs": [],
   "source": [
    "# TODO"
   ]
  },
  {
   "cell_type": "markdown",
   "metadata": {},
   "source": [
    "* Modify do_twice so that it takes two arguments, a function object and a value, and calls the function twice, passing the value as an argument."
   ]
  },
  {
   "cell_type": "code",
   "execution_count": null,
   "metadata": {},
   "outputs": [],
   "source": [
    "# TODO"
   ]
  },
  {
   "cell_type": "markdown",
   "metadata": {},
   "source": [
    "* Copy the definition of print_twice from earlier in this chapter to your script."
   ]
  },
  {
   "cell_type": "code",
   "execution_count": null,
   "metadata": {},
   "outputs": [],
   "source": [
    "# TODO"
   ]
  },
  {
   "cell_type": "markdown",
   "metadata": {},
   "source": [
    "* Use the modified version of do_twice to call print_twice twice, passing 'spam' as an argument."
   ]
  },
  {
   "cell_type": "code",
   "execution_count": null,
   "metadata": {},
   "outputs": [],
   "source": [
    "# TODO"
   ]
  },
  {
   "cell_type": "markdown",
   "metadata": {},
   "source": [
    "* Define a new function called do_four that takes a function object and a value and calls the function four times, passing the value as a parameter. There should be only two statements in the body of this function, not four.\n",
    "\n",
    "Solution: http://thinkpython2.com/code/do_four.py."
   ]
  },
  {
   "cell_type": "code",
   "execution_count": null,
   "metadata": {},
   "outputs": [],
   "source": [
    "# TODO"
   ]
  },
  {
   "cell_type": "markdown",
   "metadata": {},
   "source": [
    "## Exercise 3.3  \n",
    "Note: This exercise should be done using only the statements and other features we have learned so far.\n",
    "\n",
    "Write a function that draws a grid like the following:\n",
    "<pre>\n",
    "+ - - - - + - - - - +\n",
    "|         |         |\n",
    "|         |         |\n",
    "|         |         |\n",
    "|         |         |\n",
    "+ - - - - + - - - - +\n",
    "|         |         |\n",
    "|         |         |\n",
    "|         |         |\n",
    "|         |         |\n",
    "+ - - - - + - - - - +\n",
    "</pre>\n",
    "Hint: to print more than one value on a line, you can print a comma-separated sequence of values:\n",
    "\n",
    "<pre>\n",
    "print('+', '-')\n",
    "</pre>\n",
    "\n",
    "By default, print advances to the next line, but you can override that behavior and put a space at the end, like this:\n",
    "\n",
    "<pre>\n",
    "print('+', end=' ')\n",
    "print('-')\n",
    "</pre>\n",
    "\n",
    "The output of these statements is '+ -' on the same line. The output from the next print statement would begin on the next line.\n",
    "\n",
    "Write a function that draws a similar grid with four rows and four columns.\n",
    "Solution: http://thinkpython2.com/code/grid.py. Credit: This exercise is based on an exercise in Oualline, Practical C Programming, Third Edition, O’Reilly Media, 1997."
   ]
  },
  {
   "cell_type": "code",
   "execution_count": null,
   "metadata": {},
   "outputs": [],
   "source": [
    "# TODO"
   ]
  },
  {
   "cell_type": "markdown",
   "metadata": {},
   "source": [
    "## Casestudy Chapter 4\n",
    "\n",
    "TODO"
   ]
  },
  {
   "cell_type": "markdown",
   "metadata": {},
   "source": [
    "## Exercise 5.1  \n",
    "The time module provides a function, also named time, that returns the current Greenwich Mean Time in “the epoch”, which is an arbitrary time used as a reference point. On UNIX systems, the epoch is 1 January 1970.\n",
    "\n",
    "<pre>\n",
    ">>> import time\n",
    ">>> time.time()\n",
    "1437746094.5735958\n",
    "</pre>\n",
    "Write a script that reads the current time and converts it to a time of day in hours, minutes, and seconds, plus the number of days since the epoch."
   ]
  },
  {
   "cell_type": "code",
   "execution_count": null,
   "metadata": {},
   "outputs": [],
   "source": [
    "# TODO"
   ]
  },
  {
   "cell_type": "markdown",
   "metadata": {},
   "source": [
    "## Exercise 5.2\n",
    "\n",
    "Fermat’s Last Theorem says that there are no positive integers a, b, and c such that\n",
    "\n",
    "$a^n + b^n = c^n$\n",
    "\n",
    "for any values of $n$ greater than 2.\n",
    "\n",
    "Write a function named check_fermat that takes four parameters—a, b, c and n—and checks to see if Fermat’s theorem holds. If n is greater than 2 and\n",
    "\n",
    "$a^n + b^n = c^n$\n",
    "\n",
    "the program should print, “Holy smokes, Fermat was wrong!” Otherwise the program should print, “No, that doesn’t work.”"
   ]
  },
  {
   "cell_type": "code",
   "execution_count": null,
   "metadata": {},
   "outputs": [],
   "source": [
    "def check_fermat(a, b, c, n):\n",
    "    if not (a > 0 and b > 0 and c > 0):\n",
    "        print('a, b and c must be greater than 0')\n",
    "    elif n < 3:\n",
    "        print('n must be greater than 2')\n",
    "    elif a ** n + b ** n == c ** n:\n",
    "        print('Holy smokes Fermat was wrong!')\n",
    "    else:\n",
    "        print('No. That does not work.')"
   ]
  },
  {
   "cell_type": "code",
   "execution_count": null,
   "metadata": {},
   "outputs": [],
   "source": [
    "check_fermat(3, 4, 5, 3)"
   ]
  },
  {
   "cell_type": "markdown",
   "metadata": {},
   "source": [
    "Write a function that prompts the user to input values for a, b, c and n, converts them to integers, and uses check_fermat to check whether they violate Fermat’s theorem."
   ]
  },
  {
   "cell_type": "code",
   "execution_count": null,
   "metadata": {},
   "outputs": [],
   "source": [
    "while True:\n",
    "    a = input('a: ')\n",
    "    a = int(a)\n",
    "    b = input('b: ')\n",
    "    b = int(b)\n",
    "    c = input('c: ')\n",
    "    c = int(c)\n",
    "    n = input('n: ')\n",
    "    n = int(n)\n",
    "    check_fermat(a, b, c, n)\n"
   ]
  },
  {
   "cell_type": "markdown",
   "metadata": {},
   "source": [
    "## Exercise 5.3\n",
    "\n",
    "If you are given three sticks, you may or may not be able to arrange them in a triangle. For example, if one of the sticks is 12 inches long and the other two are one inch long, you will not be able to get the short sticks to meet in the middle. For any three lengths, there is a simple test to see if it is possible to form a triangle:\n",
    "\n",
    "If any of the three lengths is greater than the sum of the other two, then you cannot form a triangle. Otherwise, you can. (If the sum of two lengths equals the third, they form what is called a “degenerate” triangle.)\n",
    "Write a function named is_triangle that takes three integers as arguments, and that prints either “Yes” or “No”, depending on whether you can or cannot form a triangle from sticks with the given lengths."
   ]
  },
  {
   "cell_type": "code",
   "execution_count": null,
   "metadata": {},
   "outputs": [],
   "source": [
    "def is_triangle(a, b, c):\n",
    "    if a > b + c:\n",
    "        print('No.')\n",
    "    elif b > a + c:\n",
    "        print('No.')\n",
    "    elif c > a + b:\n",
    "        print('No.')\n",
    "    else:\n",
    "        print('Yes.')"
   ]
  },
  {
   "cell_type": "code",
   "execution_count": null,
   "metadata": {},
   "outputs": [],
   "source": [
    "# Same function, shorter\n",
    "def is_triangle(a, b, c):\n",
    "    if a > b + c or b > a + c or c > a + b:\n",
    "        print('No.')\n",
    "    else:\n",
    "        print('Yes.')"
   ]
  },
  {
   "cell_type": "code",
   "execution_count": null,
   "metadata": {},
   "outputs": [],
   "source": [
    "is_triangle(1, 3, 5)"
   ]
  },
  {
   "cell_type": "markdown",
   "metadata": {},
   "source": [
    "Write a function that prompts the user to input three stick lengths, converts them to integers, and uses is_triangle to check whether sticks with the given lengths can form a triangle."
   ]
  },
  {
   "cell_type": "code",
   "execution_count": null,
   "metadata": {},
   "outputs": [],
   "source": [
    "# TODO"
   ]
  },
  {
   "cell_type": "markdown",
   "metadata": {},
   "source": [
    "## Exercise 5.4\n",
    "\n",
    "What is the output of the following program? Draw a stack diagram that shows the state of the program when it prints the result.\n",
    "\n",
    "<pre>\n",
    "def recurse(n, s):\n",
    "    if n == 0:\n",
    "        print(s)\n",
    "    else:\n",
    "        recurse(n-1, n+s)\n",
    "\n",
    "recurse(3, 0)\n",
    "</pre>"
   ]
  },
  {
   "cell_type": "code",
   "execution_count": null,
   "metadata": {},
   "outputs": [],
   "source": [
    "# TODO"
   ]
  },
  {
   "cell_type": "markdown",
   "metadata": {},
   "source": [
    "What would happen if you called this function like this:\n",
    "\n",
    "<pre>\n",
    "recurse(-1, 0)?\n",
    "</pre>\n",
    "\n",
    "Write a docstring that explains everything someone would need to know in order to use this function (and nothing else)."
   ]
  },
  {
   "cell_type": "code",
   "execution_count": null,
   "metadata": {},
   "outputs": [],
   "source": [
    "# TODO"
   ]
  },
  {
   "cell_type": "markdown",
   "metadata": {},
   "source": [
    "The following exercises use the turtle module, described in Chapter 4:\n",
    "\n",
    "## Exercise 5.5  \n",
    "Read the following function and see if you can figure out what it does (see the examples in Chapter 4). Then run it and see if you got it right.\n",
    "\n",
    "<pre>\n",
    "def draw(t, length, n):\n",
    "    if n == 0:\n",
    "        return\n",
    "    angle = 50\n",
    "    t.fd(length*n)\n",
    "    t.lt(angle)\n",
    "    draw(t, length, n-1)\n",
    "    t.rt(2*angle)\n",
    "    draw(t, length, n-1)\n",
    "    t.lt(angle)\n",
    "    t.bk(length*n)\n",
    "</pre>\n",
    "\n",
    "Figure 5.2: A Koch curve.\n",
    "\n",
    "## Exercise 5.6  \n",
    "The Koch curve is a fractal that looks something like Figure 5.2. To draw a Koch curve with length x, all you have to do is\n",
    "\n",
    "1. Draw a Koch curve with length x/3.\n",
    "2. Turn left 60 degrees.\n",
    "3. Draw a Koch curve with length x/3.\n",
    "4. Turn right 120 degrees.\n",
    "5. Draw a Koch curve with length x/3.\n",
    "6. Turn left 60 degrees.\n",
    "7. Draw a Koch curve with length x/3.\n",
    "\n",
    "The exception is if x is less than 3: in that case, you can just draw a straight line with length x.\n",
    "\n",
    "Write a function called koch that takes a turtle and a length as parameters, and that uses the turtle to draw a Koch curve with the given length."
   ]
  },
  {
   "cell_type": "markdown",
   "metadata": {},
   "source": [
    "Write a function called snowflake that draws three Koch curves to make the outline of a snowflake.\n",
    "Solution: http://thinkpython2.com/code/koch.py."
   ]
  },
  {
   "cell_type": "markdown",
   "metadata": {},
   "source": [
    "The Koch curve can be generalized in several ways. See http://en.wikipedia.org/wiki/Koch_snowflake for examples and implement your favorite."
   ]
  },
  {
   "cell_type": "code",
   "execution_count": null,
   "metadata": {},
   "outputs": [],
   "source": [
    "TODO"
   ]
  },
  {
   "cell_type": "markdown",
   "metadata": {},
   "source": [
    "## Exercise 6.1  \n",
    "Draw a stack diagram for the following program. What does the program print?\n",
    "\n",
    "<pre>\n",
    "def b(z):\n",
    "    prod = a(z, z)\n",
    "    print(z, prod)\n",
    "    return prod\n",
    "\n",
    "def a(x, y):\n",
    "    x = x + 1\n",
    "    return x * y\n",
    "\n",
    "def c(x, y, z):\n",
    "    total = x + y + z\n",
    "    square = b(total)**2\n",
    "    return square\n",
    "\n",
    "x = 1\n",
    "y = x + 1\n",
    "print(c(x, y+3, x+y))\n",
    "</pre>"
   ]
  },
  {
   "cell_type": "code",
   "execution_count": null,
   "metadata": {},
   "outputs": [],
   "source": [
    "# TODO"
   ]
  },
  {
   "cell_type": "markdown",
   "metadata": {},
   "source": [
    "## Exercise 6.2  \n",
    "The Ackermann function, A(m, n), is defined:\n",
    "\n",
    "$ A(m, n) =\n",
    "\\begin{cases}\n",
    "n+1 & \\mbox{if } m = 0 \\\\\n",
    "A(m-1, 1) & \\mbox{if } m > 0 \\mbox{ and } n = 0 \\\\\n",
    "A(m-1, A(m, n-1)) & \\mbox{if } m > 0 \\mbox{ and } n > 0.\n",
    "\\end{cases}\n",
    "$\n",
    "\n",
    "See http://en.wikipedia.org/wiki/Ackermann_function.\n",
    "\n",
    "Write a function named ack that evaluates the Ackermann function. Use your function to evaluate ack(3, 4), which should be 125. What happens for larger values of m and n? Solution: http://thinkpython2.com/code/ackermann.py."
   ]
  },
  {
   "cell_type": "code",
   "execution_count": null,
   "metadata": {},
   "outputs": [],
   "source": [
    "# TODO"
   ]
  },
  {
   "cell_type": "markdown",
   "metadata": {},
   "source": [
    "## Exercise 3  \n",
    "A palindrome is a word that is spelled the same backward and forward, like “noon” and “redivider”. Recursively, a word is a palindrome if the first and last letters are the same and the middle is a palindrome.\n",
    "\n",
    "The following are functions that take a string argument and return the first, last, and middle letters:\n",
    "<pre>\n",
    "def first(word):\n",
    "    return word[0]\n",
    "\n",
    "def last(word):\n",
    "    return word[-1]\n",
    "\n",
    "def middle(word):\n",
    "    return word[1:-1]\n",
    "</pre>\n",
    "We’ll see how they work in Chapter 8.\n",
    "\n",
    "Type these functions into a file named palindrome.py and test them out. What happens if you call middle with a string with two letters? One letter? What about the empty string, which is written '' and contains no letters?\n",
    "Write a function called is_palindrome that takes a string argument and returns True if it is a palindrome and False otherwise. Remember that you can use the built-in function len to check the length of a string.\n",
    "Solution: http://thinkpython2.com/code/palindrome_soln.py."
   ]
  },
  {
   "cell_type": "code",
   "execution_count": null,
   "metadata": {},
   "outputs": [],
   "source": [
    "def first(word):\n",
    "    return word[0]"
   ]
  },
  {
   "cell_type": "code",
   "execution_count": null,
   "metadata": {},
   "outputs": [],
   "source": [
    "def last(word):\n",
    "    return word[-1]"
   ]
  },
  {
   "cell_type": "code",
   "execution_count": null,
   "metadata": {},
   "outputs": [],
   "source": [
    "def middle(word):\n",
    "    return word[1:-1]"
   ]
  },
  {
   "cell_type": "code",
   "execution_count": null,
   "metadata": {},
   "outputs": [],
   "source": [
    "def is_palindrome(word):\n",
    "    if len(word) > 2:                           # If \"word\" has more than two characters\n",
    "        if not is_palindrome(middle(word)):     # Recursively call is_palindrome for word\n",
    "                                                # minus the first and the last character \n",
    "            return False                        # If the middle is not a palindrome neither\n",
    "                                                # is the word, return False\n",
    "    return first(word) == last(word)            # compare the first and last character of\n",
    "                                                # word. Returns True or False"
   ]
  },
  {
   "cell_type": "code",
   "execution_count": null,
   "metadata": {},
   "outputs": [],
   "source": [
    "# The same is_palidrome but without first/last/middle functions\n",
    "def is_palindrome2(word):\n",
    "    if len(word) > 2:\n",
    "        if not is_palindrome2(word[1:-1]):\n",
    "            return False\n",
    "    return word[0] == word[-1]"
   ]
  },
  {
   "cell_type": "code",
   "execution_count": null,
   "metadata": {},
   "outputs": [],
   "source": [
    "is_palindrome('palindrome')"
   ]
  },
  {
   "cell_type": "code",
   "execution_count": null,
   "metadata": {},
   "outputs": [],
   "source": [
    "is_palindrome('redivider')"
   ]
  },
  {
   "cell_type": "markdown",
   "metadata": {},
   "source": [
    "## Exercise 6.4  \n",
    "A number, a, is a power of b if it is divisible by b and a/b is a power of b. Write a function called is_power that takes parameters a and b and returns True if a is a power of b. Note: you will have to think about the base case."
   ]
  },
  {
   "cell_type": "code",
   "execution_count": null,
   "metadata": {},
   "outputs": [],
   "source": [
    "# TODO"
   ]
  },
  {
   "cell_type": "markdown",
   "metadata": {},
   "source": [
    "## Exercise 6.5  \n",
    "The greatest common divisor (GCD) of a and b is the largest number that divides both of them with no remainder.\n",
    "\n",
    "One way to find the GCD of two numbers is based on the observation that if r is the remainder when a is divided by b, then gcd(a, b) = gcd(b, r). As a base case, we can use gcd(a, 0) = a.\n",
    "\n",
    "Write a function called gcd that takes parameters a and b and returns their greatest common divisor.\n",
    "\n",
    "Credit: This exercise is based on an example from Abelson and Sussman’s Structure and Interpretation of Computer Programs."
   ]
  },
  {
   "cell_type": "code",
   "execution_count": null,
   "metadata": {},
   "outputs": [],
   "source": [
    "# TODO"
   ]
  },
  {
   "cell_type": "markdown",
   "metadata": {},
   "source": [
    "## Exercise 7.1  \n",
    "Copy the loop from Section 7.5 and encapsulate it in a function called mysqrt that takes a as a parameter, chooses a reasonable value of x, and returns an estimate of the square root of a.\n",
    "\n",
    "To test it, write a function named test_square_root that prints a table like this:\n",
    "<pre>\n",
    "a   mysqrt(a)     math.sqrt(a)  diff\n",
    "-   ---------     ------------  ----\n",
    "1.0 1.0           1.0           0.0\n",
    "2.0 1.41421356237 1.41421356237 2.22044604925e-16\n",
    "3.0 1.73205080757 1.73205080757 0.0\n",
    "4.0 2.0           2.0           0.0\n",
    "5.0 2.2360679775  2.2360679775  0.0\n",
    "6.0 2.44948974278 2.44948974278 0.0\n",
    "7.0 2.64575131106 2.64575131106 0.0\n",
    "8.0 2.82842712475 2.82842712475 4.4408920985e-16\n",
    "9.0 3.0           3.0           0.0\n",
    "</pre>\n",
    "The first column is a number, a; the second column is the square root of a computed with mysqrt; the third column is the square root computed by math.sqrt; the fourth column is the absolute value of the difference between the two estimates."
   ]
  },
  {
   "cell_type": "code",
   "execution_count": null,
   "metadata": {},
   "outputs": [],
   "source": [
    "# TODO"
   ]
  },
  {
   "cell_type": "markdown",
   "metadata": {},
   "source": [
    "Exercise 2  \n",
    "The built-in function eval takes a string and evaluates it using the Python interpreter. For example:\n",
    "\n",
    ">>> eval('1 + 2 * 3')\n",
    "7\n",
    ">>> import math\n",
    ">>> eval('math.sqrt(5)')\n",
    "2.2360679774997898\n",
    ">>> eval('type(math.pi)')\n",
    "<class 'float'>\n",
    "Write a function called eval_loop that iteratively prompts the user, takes the resulting input and evaluates it using eval, and prints the result.\n",
    "\n",
    "It should continue until the user enters 'done', and then return the value of the last expression it evaluated."
   ]
  },
  {
   "cell_type": "markdown",
   "metadata": {},
   "source": [
    "\n",
    "## Exercise 7.2  \n",
    "The built-in function eval takes a string and evaluates it using the Python interpreter. For example:\n",
    "\n",
    "<pre>\n",
    ">>> eval('1 + 2 * 3')\n",
    "7\n",
    ">>> import math\n",
    ">>> eval('math.sqrt(5)')\n",
    "2.2360679774997898\n",
    ">>> eval('type(math.pi)')\n",
    "<class 'float'>\n",
    "</pre>\n",
    "Write a function called eval_loop that iteratively prompts the user, takes the resulting input and evaluates it using eval, and prints the result. It should continue until the user enters 'done', and then return the value of the last expression it evaluated."
   ]
  },
  {
   "cell_type": "code",
   "execution_count": null,
   "metadata": {},
   "outputs": [],
   "source": [
    "def eval_loop():\n",
    "    value = None                  # Initialize value variable\n",
    "    while True:\n",
    "        cmd = input('> ')\n",
    "        if cmd == 'done':         # If command is 'done' \n",
    "            print(value)          # Print last return value\n",
    "            break                 # break loop\n",
    "        value = eval(cmd)         # evaluate command and save returned value"
   ]
  },
  {
   "cell_type": "code",
   "execution_count": null,
   "metadata": {},
   "outputs": [],
   "source": [
    "eval_loop()"
   ]
  },
  {
   "cell_type": "markdown",
   "metadata": {},
   "source": [
    "## Exercise 7.3  \n",
    "The mathematician Srinivasa Ramanujan found an infinite series that can be used to generate a numerical approximation of 1 / π:\n",
    "\n",
    "$\\frac{1}{\\pi} = \\frac{2\\sqrt 2}{9801} \\sum^\\infty_{k=0} \\frac{(4k)!(1103+26390k)}{(k!)^4 396^{4k}}.$\n",
    " \n",
    "Write a function called estimate_pi that uses this formula to compute and return an estimate of π. It should use a while loop to compute terms of the summation until the last term is smaller than 1e-15 (which is Python notation for 10−15). You can check the result by comparing it to math.pi."
   ]
  },
  {
   "cell_type": "code",
   "execution_count": null,
   "metadata": {},
   "outputs": [],
   "source": [
    "# TODO"
   ]
  },
  {
   "cell_type": "markdown",
   "metadata": {},
   "source": [
    "## Exercise 8.1  \n",
    "Read the documentation of the string methods at http://docs.python.org/3/library/stdtypes.html#string-methods. You might want to experiment with some of them to make sure you understand how they work. strip and replace are particularly useful.\n",
    "\n",
    "The documentation uses a syntax that might be confusing. For example, in find(sub[, start[, end]]), the brackets indicate optional arguments. So sub is required, but start is optional, and if you include start, then end is optional."
   ]
  },
  {
   "cell_type": "markdown",
   "metadata": {},
   "source": [
    "TODO"
   ]
  },
  {
   "cell_type": "markdown",
   "metadata": {},
   "source": [
    "## Exercise 8.2  \n",
    "There is a string method called count that is similar to the function in Section 8.7. Read the documentation of this method and write an invocation that counts the number of a’s in 'banana'."
   ]
  },
  {
   "cell_type": "markdown",
   "metadata": {},
   "source": [
    "TODO"
   ]
  },
  {
   "cell_type": "markdown",
   "metadata": {},
   "source": [
    "## Exercise 8.3  \n",
    "A string slice can take a third index that specifies the “step size”; that is, the number of spaces between successive characters. A step size of 2 means every other character; 3 means every third, etc.\n",
    "<pre>\n",
    ">>> fruit = 'banana'\n",
    ">>> fruit[0:5:2]\n",
    "'bnn'\n",
    "</pre>\n",
    "\n",
    "A step size of -1 goes through the word backwards, so the slice [::-1] generates a reversed string.\n",
    "\n",
    "Use this idiom to write a one-line version of is_palindrome from Exercise 3."
   ]
  },
  {
   "cell_type": "markdown",
   "metadata": {},
   "source": [
    "TODO"
   ]
  },
  {
   "cell_type": "markdown",
   "metadata": {},
   "source": [
    "## Exercise 8.4  \n",
    "The following functions are all intended to check whether a string contains any lowercase letters, but at least some of them are wrong. For each function, describe what the function actually does (assuming that the parameter is a string).\n",
    "<pre>\n",
    "def any_lowercase1(s):\n",
    "    for c in s:\n",
    "        if c.islower():\n",
    "            return True\n",
    "        else:\n",
    "            return False\n",
    "</pre>"
   ]
  },
  {
   "cell_type": "markdown",
   "metadata": {},
   "source": [
    "TODO"
   ]
  },
  {
   "cell_type": "markdown",
   "metadata": {},
   "source": [
    "<pre>\n",
    "def any_lowercase2(s):\n",
    "    for c in s:\n",
    "        if 'c'.islower():\n",
    "            return 'True'\n",
    "        else:\n",
    "            return 'False'\n",
    "</pre>"
   ]
  },
  {
   "cell_type": "markdown",
   "metadata": {},
   "source": [
    "TODO"
   ]
  },
  {
   "cell_type": "markdown",
   "metadata": {},
   "source": [
    "<pre>\n",
    "def any_lowercase3(s):\n",
    "    for c in s:\n",
    "        flag = c.islower()\n",
    "    return flag\n",
    "</pre>"
   ]
  },
  {
   "cell_type": "markdown",
   "metadata": {},
   "source": [
    "TODO"
   ]
  },
  {
   "cell_type": "markdown",
   "metadata": {},
   "source": [
    "<pre>\n",
    "def any_lowercase4(s):\n",
    "    flag = False\n",
    "    for c in s:\n",
    "        flag = flag or c.islower()\n",
    "    return flag\n",
    "</pre>"
   ]
  },
  {
   "cell_type": "markdown",
   "metadata": {},
   "source": [
    "TODO"
   ]
  },
  {
   "cell_type": "markdown",
   "metadata": {},
   "source": [
    "<pre>\n",
    "def any_lowercase5(s):\n",
    "    for c in s:\n",
    "        if not c.islower():\n",
    "            return False\n",
    "    return True\n",
    "</pre>"
   ]
  },
  {
   "cell_type": "markdown",
   "metadata": {},
   "source": [
    "TODO"
   ]
  },
  {
   "cell_type": "markdown",
   "metadata": {},
   "source": [
    "## Exercise 8.5. \n",
    "\n",
    "A Caesar cypher is a weak form of encryption that involves “rotating” each letter by\n",
    "a fixed number of places. To rotate a letter means to shift it through the alphabet, wrapping around\n",
    "to the beginning if necessary, so ’A’ rotated by 3 is ’D’ and ’Z’ rotated by 1 is ’A’.\n",
    "To rotate a word, rotate each letter by the same amount. For example, “cheer” rotated by 7 is “jolly”\n",
    "and “melon” rotated by -10 is “cubed”. In the movie 2001: A Space Odyssey, the ship computer\n",
    "is called HAL, which is IBM rotated by -1.\n",
    "\n",
    "\n",
    "Write a function called rotate_word that takes a string and an integer as parameters, and returns\n",
    "a new string that contains the letters from the original string rotated by the given amount.\n",
    "You might want to use the built-in function ord, which converts a character to a numeric code, and chr, which converts numeric codes to characters. Letters of the alphabet are encoded in alphabetical\n",
    "order, so for example:\n",
    "\n",
    "<pre>\n",
    ">>> ord('c') - ord('a')\n",
    "2\n",
    "</pre>\n",
    "\n",
    "Because 'c' is the two-eth letter of the alphabet. But beware: the numeric codes for upper case\n",
    "letters are different."
   ]
  },
  {
   "cell_type": "code",
   "execution_count": 2,
   "metadata": {},
   "outputs": [],
   "source": [
    "def rotate_word(word, count):\n",
    "    retStr = ''\n",
    "    for letter in word:\n",
    "        if letter.islower():\n",
    "            start = ord('a')                       # The lowercase alphabet starts at ord('a')\n",
    "        else:\n",
    "            start = ord('A')                       # The uppercase alphabet starts at ord('A') \n",
    "        new_letter = ord(letter) - start           # Determine the alphabet index for letter\n",
    "        new_letter = (new_letter + count) % 26     # Determine the new index, roll-over using modulo 26\n",
    "        retStr = retStr + chr(start + new_letter)  # Add the offset of start and convert to char\n",
    "    return retStr"
   ]
  },
  {
   "cell_type": "code",
   "execution_count": 3,
   "metadata": {},
   "outputs": [
    {
     "name": "stdout",
     "output_type": "stream",
     "text": [
      "Melon rotated by -10 is Cubed\n"
     ]
    }
   ],
   "source": [
    "print('Melon rotated by -10 is', rotate_word('Melon', -10))"
   ]
  },
  {
   "cell_type": "code",
   "execution_count": 4,
   "metadata": {},
   "outputs": [
    {
     "name": "stdout",
     "output_type": "stream",
     "text": [
      "Cheer rotated by 7 is Jolly\n"
     ]
    }
   ],
   "source": [
    "print('Cheer rotated by 7 is', rotate_word('Cheer', 7))"
   ]
  },
  {
   "cell_type": "code",
   "execution_count": 5,
   "metadata": {},
   "outputs": [
    {
     "name": "stdout",
     "output_type": "stream",
     "text": [
      "IBM rotated by -1 is HAL\n"
     ]
    }
   ],
   "source": [
    "print('IBM rotated by -1 is', rotate_word('IBM', -1))"
   ]
  },
  {
   "cell_type": "markdown",
   "metadata": {},
   "source": [
    "## Casestudy Chapter 9\n",
    "\n",
    "TODO"
   ]
  },
  {
   "cell_type": "markdown",
   "metadata": {},
   "source": [
    "## 10.1\n",
    "\n",
    "Write a function called nested_sum that takes a list of lists and adds up the elements of all the nested lists."
   ]
  },
  {
   "cell_type": "code",
   "execution_count": 40,
   "metadata": {},
   "outputs": [],
   "source": [
    "def nested_sum_1(t):\n",
    "    retVal = 0\n",
    "    for elem in t:\n",
    "        retVal += sum(elem)\n",
    "    return retVal"
   ]
  },
  {
   "cell_type": "code",
   "execution_count": 45,
   "metadata": {},
   "outputs": [],
   "source": [
    "def nested_sum(t):\n",
    "    retVal = 0\n",
    "    for elem in t:\n",
    "        if isinstance(elem, list):\n",
    "            retVal += nested_sum(elem)\n",
    "        elif isinstance(elem, int):\n",
    "            retVal += elem\n",
    "        else:\n",
    "            pass # element is not an integer or list\n",
    "    return retVal"
   ]
  },
  {
   "cell_type": "code",
   "execution_count": 47,
   "metadata": {},
   "outputs": [],
   "source": [
    "t = [[1,[2, 3]], 'pipo', 3, [4, [5, [6, 7]]]]"
   ]
  },
  {
   "cell_type": "code",
   "execution_count": 48,
   "metadata": {},
   "outputs": [
    {
     "data": {
      "text/plain": [
       "31"
      ]
     },
     "execution_count": 48,
     "metadata": {},
     "output_type": "execute_result"
    }
   ],
   "source": [
    "nested_sum(t)"
   ]
  },
  {
   "cell_type": "markdown",
   "metadata": {},
   "source": [
    "## 10.2\n",
    "\n",
    "Write a function called cumsum that takes a list of numbers and returns the cumulative sum; that is a new list where the ith element is the sum of the first i+1 elements from the original list. For example:\n",
    "<pre>\n",
    ">>> t = [1, 2, 3]\n",
    ">>> cumsum(t)\n",
    "[1, 3, 6]\n",
    "</pre>\n"
   ]
  },
  {
   "cell_type": "code",
   "execution_count": 50,
   "metadata": {},
   "outputs": [],
   "source": [
    "def cumsum(t):\n",
    "    retList = []\n",
    "    for i in range(len(t)):\n",
    "        print(t[:i+1])\n",
    "        retList.append(sum(t[:i+1]))\n",
    "    return retList"
   ]
  },
  {
   "cell_type": "code",
   "execution_count": 51,
   "metadata": {},
   "outputs": [
    {
     "name": "stdout",
     "output_type": "stream",
     "text": [
      "[1]\n",
      "[1, 2]\n",
      "[1, 2, 3]\n"
     ]
    },
    {
     "data": {
      "text/plain": [
       "[1, 3, 6]"
      ]
     },
     "execution_count": 51,
     "metadata": {},
     "output_type": "execute_result"
    }
   ],
   "source": [
    "cumsum([1, 2, 3])"
   ]
  },
  {
   "cell_type": "markdown",
   "metadata": {},
   "source": [
    "## 10.3\n",
    "\n",
    "Write a function called middle that takes a list and returns all but the first and last elements. For example:\n",
    "<pre>\n",
    ">>> t = [1, 2, 3, 4]\n",
    ">>> middle(t)\n",
    "[2, 3]\n",
    "</pre>"
   ]
  },
  {
   "cell_type": "code",
   "execution_count": 17,
   "metadata": {},
   "outputs": [],
   "source": [
    "def middle(t):\n",
    "    return t[1:-1]"
   ]
  },
  {
   "cell_type": "code",
   "execution_count": 18,
   "metadata": {},
   "outputs": [],
   "source": [
    "t = [1, 2, 3, 4]"
   ]
  },
  {
   "cell_type": "code",
   "execution_count": 20,
   "metadata": {},
   "outputs": [
    {
     "data": {
      "text/plain": [
       "[2, 3]"
      ]
     },
     "execution_count": 20,
     "metadata": {},
     "output_type": "execute_result"
    }
   ],
   "source": [
    "middle(t)"
   ]
  },
  {
   "cell_type": "code",
   "execution_count": 21,
   "metadata": {},
   "outputs": [
    {
     "data": {
      "text/plain": [
       "[1, 2, 3, 4]"
      ]
     },
     "execution_count": 21,
     "metadata": {},
     "output_type": "execute_result"
    }
   ],
   "source": [
    "t"
   ]
  },
  {
   "cell_type": "markdown",
   "metadata": {},
   "source": [
    "## 10.4\n",
    "\n",
    "Write a function called chop that takes a list, modifies it by removing the first and last elements and returns None. For example:\n",
    "<pre>\n",
    ">>> t = [1, 2, 3, 4]\n",
    ">>> chop(t)\n",
    ">>> t\n",
    "[2, 3]\n",
    "</pre>"
   ]
  },
  {
   "cell_type": "code",
   "execution_count": 52,
   "metadata": {},
   "outputs": [],
   "source": [
    "def chop(t):\n",
    "    del t[0], t[-1]"
   ]
  },
  {
   "cell_type": "code",
   "execution_count": 57,
   "metadata": {},
   "outputs": [],
   "source": [
    "t = [1, 2, 3, 4]"
   ]
  },
  {
   "cell_type": "code",
   "execution_count": 58,
   "metadata": {},
   "outputs": [
    {
     "name": "stdout",
     "output_type": "stream",
     "text": [
      "None\n"
     ]
    }
   ],
   "source": [
    "print(chop(t))"
   ]
  },
  {
   "cell_type": "code",
   "execution_count": 59,
   "metadata": {},
   "outputs": [
    {
     "data": {
      "text/plain": [
       "[2, 3]"
      ]
     },
     "execution_count": 59,
     "metadata": {},
     "output_type": "execute_result"
    }
   ],
   "source": [
    "t"
   ]
  },
  {
   "cell_type": "markdown",
   "metadata": {},
   "source": [
    "## 10.5\n",
    "\n",
    "Write a function called is_sorted that takes a list as a parameter and returns True if the list is sorted in ascending order and False otherwise. For example:\n",
    "<pre>\n",
    ">>> is_sorted([1, 2, 2])\n",
    "True\n",
    ">>> is_sorted(['b', 'a'])\n",
    "False\n",
    "</pre>"
   ]
  },
  {
   "cell_type": "code",
   "execution_count": 26,
   "metadata": {},
   "outputs": [],
   "source": [
    "def is_sorted(t):\n",
    "    t1 = sorted(t)\n",
    "    return t1 == t"
   ]
  },
  {
   "cell_type": "code",
   "execution_count": 61,
   "metadata": {},
   "outputs": [
    {
     "data": {
      "text/plain": [
       "True"
      ]
     },
     "execution_count": 61,
     "metadata": {},
     "output_type": "execute_result"
    }
   ],
   "source": [
    "is_sorted([1, 2, 3])"
   ]
  },
  {
   "cell_type": "markdown",
   "metadata": {},
   "source": [
    "## 10.6\n",
    "\n",
    "Two words are anagrams if you can rearrange the letters from one to spell the other. Write a function is_anagram that takes two strings and returns True if they are anagrams."
   ]
  },
  {
   "cell_type": "code",
   "execution_count": 65,
   "metadata": {},
   "outputs": [],
   "source": [
    "def is_anagram(s1, s2):\n",
    "    return sorted(s1.lower()) == sorted(s2.lower())"
   ]
  },
  {
   "cell_type": "code",
   "execution_count": 66,
   "metadata": {},
   "outputs": [
    {
     "data": {
      "text/plain": [
       "True"
      ]
     },
     "execution_count": 66,
     "metadata": {},
     "output_type": "execute_result"
    }
   ],
   "source": [
    "is_anagram('Pipo', 'Opip')"
   ]
  },
  {
   "cell_type": "markdown",
   "metadata": {},
   "source": [
    "## 10.7\n",
    "\n",
    "Write a function called has_duplicates that takes a list and returns True if there is any element that appears more than once. It should not modify the original list."
   ]
  },
  {
   "cell_type": "code",
   "execution_count": 36,
   "metadata": {},
   "outputs": [],
   "source": [
    "def has_duplicates(t):\n",
    "    t1 = sorted(t)\n",
    "    for i in range(1, len(t1)):\n",
    "        if t1[i] == t1[i-1]:\n",
    "            return True\n",
    "    return False # This is not required ...    "
   ]
  },
  {
   "cell_type": "code",
   "execution_count": 71,
   "metadata": {},
   "outputs": [
    {
     "data": {
      "text/plain": [
       "True"
      ]
     },
     "execution_count": 71,
     "metadata": {},
     "output_type": "execute_result"
    }
   ],
   "source": [
    "has_duplicates([1, 2, 3, 3])"
   ]
  },
  {
   "cell_type": "markdown",
   "metadata": {},
   "source": [
    "## 11.1\n",
    "\n",
    "Write a function that reads the words in words.txt and stores them as keys in a dictionary"
   ]
  },
  {
   "cell_type": "code",
   "execution_count": 109,
   "metadata": {},
   "outputs": [],
   "source": [
    "def read_words():\n",
    "    wordlist = {}\n",
    "    with open('words.txt', 'r') as file_in:\n",
    "        for line in file_in:\n",
    "            wordlist[line.strip()] = None\n",
    "    return wordlist"
   ]
  },
  {
   "cell_type": "code",
   "execution_count": 110,
   "metadata": {},
   "outputs": [],
   "source": [
    "wordlist = read_words()"
   ]
  },
  {
   "cell_type": "markdown",
   "metadata": {},
   "source": [
    "## 11.5\n",
    "\n",
    "Write a program that finds all the rotate pairs in wordlist.\n"
   ]
  },
  {
   "cell_type": "code",
   "execution_count": 101,
   "metadata": {},
   "outputs": [],
   "source": [
    "def find_rotate_pairs(wordlist):\n",
    "    for key in wordlist:\n",
    "        for i in range(1, 14):\n",
    "            rotated = rotate_word(key, i)\n",
    "            if rotated in wordlist:\n",
    "                print(key, i, rotated)\n"
   ]
  },
  {
   "cell_type": "code",
   "execution_count": null,
   "metadata": {},
   "outputs": [],
   "source": []
  }
 ],
 "metadata": {
  "kernelspec": {
   "display_name": "Python 3",
   "language": "python",
   "name": "python3"
  },
  "language_info": {
   "codemirror_mode": {
    "name": "ipython",
    "version": 3
   },
   "file_extension": ".py",
   "mimetype": "text/x-python",
   "name": "python",
   "nbconvert_exporter": "python",
   "pygments_lexer": "ipython3",
   "version": "3.7.3"
  }
 },
 "nbformat": 4,
 "nbformat_minor": 2
}
